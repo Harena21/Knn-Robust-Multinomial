{
 "cells": [
  {
   "cell_type": "markdown",
   "id": "83174cc5",
   "metadata": {},
   "source": [
    "Before you turn this problem in, make sure everything runs as expected. First, **restart the kernel** (in the menubar, select Kernel$\\rightarrow$Restart) and then **run all cells** (in the menubar, select Cell$\\rightarrow$Run All).\n",
    "\n",
    "Make sure you fill in any place that says `YOUR CODE HERE` or \"YOUR ANSWER HERE\", as well as your name and collaborators below:"
   ]
  },
  {
   "cell_type": "markdown",
   "id": "ad8c49f5",
   "metadata": {},
   "source": [
    "---"
   ]
  },
  {
   "cell_type": "code",
   "execution_count": 66,
   "id": "aebdce2a",
   "metadata": {
    "deletable": false,
    "editable": false,
    "nbgrader": {
     "cell_type": "code",
     "checksum": "a003bb8fd03260393cb0121b2dcaf283",
     "grade": false,
     "grade_id": "cell-bb34820fb5daebb2",
     "locked": true,
     "schema_version": 3,
     "solution": false,
     "task": false
    }
   },
   "outputs": [],
   "source": [
    "# AZA MANAMPY CODE ATO FA MNAOVA CELLULE VAOVAO\n",
    "\n",
    "from random import randrange\n",
    "import numpy as np\n",
    "from sklearn.metrics import mean_squared_error, log_loss\n",
    "from sklearn.linear_model import HuberRegressor\n",
    "from sklearn.datasets import load_boston, load_diabetes, load_iris, load_digits\n",
    "from scipy.special import huber\n",
    "from sklearn.metrics import accuracy_score\n",
    "from sklearn.model_selection import train_test_split\n",
    "from sklearn.neighbors import KNeighborsClassifier\n",
    "\n",
    "def grad_check_sparse(f, x, analytic_grad, num_checks=12, h=1e-5, error=1e-9):\n",
    "    \"\"\"\n",
    "    sample a few random elements and only return numerical\n",
    "    in this dimensions\n",
    "    \"\"\"\n",
    "\n",
    "    for i in range(num_checks):\n",
    "        ix = tuple([randrange(m) for m in x.shape])\n",
    "\n",
    "        oldval = x[ix]\n",
    "        x[ix] = oldval + h  # increment by h\n",
    "        fxph = f(x)  # evaluate f(x + h)\n",
    "        x[ix] = oldval - h  # increment by h\n",
    "        fxmh = f(x)  # evaluate f(x - h)\n",
    "        x[ix] = oldval  # reset\n",
    "\n",
    "        grad_numerical = (fxph - fxmh) / (2 * h)\n",
    "        grad_analytic = analytic_grad[ix]\n",
    "        rel_error = abs(grad_numerical - grad_analytic) / (\n",
    "            abs(grad_numerical) + abs(grad_analytic)\n",
    "        )\n",
    "        print(\n",
    "            \"numerical: %f analytic: %f, relative error: %e\"\n",
    "            % (grad_numerical, grad_analytic, rel_error)\n",
    "        )\n",
    "        assert rel_error < error\n",
    "\n",
    "def rel_error(x, y):\n",
    "    \"\"\" returns relative error \"\"\"\n",
    "    return np.max(np.abs(x - y) / (np.maximum(1e-8, np.abs(x) + np.abs(y))))"
   ]
  },
  {
   "cell_type": "markdown",
   "id": "b72ea596",
   "metadata": {},
   "source": [
    "# Robust linear regression - Huber loss\n"
   ]
  },
  {
   "cell_type": "code",
   "execution_count": 100,
   "id": "9405baa1",
   "metadata": {
    "deletable": false,
    "editable": false,
    "nbgrader": {
     "cell_type": "code",
     "checksum": "c1ef69a259cc98ed9c1a4b75d4675c8d",
     "grade": false,
     "grade_id": "cell-050726493bce8a41",
     "locked": true,
     "schema_version": 3,
     "solution": false,
     "task": false
    }
   },
   "outputs": [],
   "source": [
    "data = load_boston()\n",
    "X_train1, y_train1 = data.data, data.target\n",
    "w1 = np.random.randn(X_train1.shape[1]) * 0.0001\n",
    "b1 = np.random.randn(1) * 0.0001"
   ]
  },
  {
   "cell_type": "code",
   "execution_count": 101,
   "id": "b79b3750",
   "metadata": {
    "deletable": false,
    "nbgrader": {
     "cell_type": "code",
     "checksum": "095fe70b6ce7c4be3afef42fd9756ac5",
     "grade": false,
     "grade_id": "cell-773a9a9798718bb2",
     "locked": false,
     "schema_version": 3,
     "solution": true,
     "task": false
    }
   },
   "outputs": [],
   "source": [
    "def huber_loss_naive(w, b, X, y, epsilon=1.35, alpha=0.0001):\n",
    "    \"\"\"\n",
    "    Huber loss for all observations\n",
    "    \n",
    "    Inputs:\n",
    "    - w: array of shape (D,) containing weights\n",
    "    - b: float bias \n",
    "    - X: array of shape (N, D) containing a minibatch of data\n",
    "    - y: array of shape (N,) containing training labels \n",
    "    - epsilon: float\n",
    "    - alpha: regularization\n",
    "    \"\"\"\n",
    "    loss = 0.0\n",
    "    dw = np.zeros_like(w)\n",
    "    db = 0.0\n",
    "    \n",
    "    # YOUR CODE HERE\n",
    "    n = y.shape[0]\n",
    "    #loss\n",
    "    for i in range(n):\n",
    "        if(abs(y[i] - (w.T@X[i] + b))<= epsilon):\n",
    "            loss += (1/(2*n))*((w.T@X[i] + b - y[i])**2)\n",
    "        else:\n",
    "            loss += (1/n)*(epsilon*(abs((w.T@X[i] + b) - y[i]) - 0.5*(epsilon**2)))\n",
    "    for i in range(w.shape[0]):\n",
    "        loss += alpha * w[i]**2   \n",
    "    \n",
    "    #dw \n",
    "    for i in range(w.shape[0]):\n",
    "        if(abs((w.T@X[i] + b) - y[i]) <= epsilon):\n",
    "            for j in range(y.shape[0]):\n",
    "                dw[i] += (1/n)*((w.T@X[j] - y[j] + b))*X[j][i] \n",
    "        else:\n",
    "            if((w.T@X[i] + b) - y[i]<0):\n",
    "                for j in range(y.shape[0]):\n",
    "                    dw[i] -= (1/n)*(epsilon*X[j][i])\n",
    "            elif(w.T@X[i] + b - y[i] > 0):\n",
    "                for j in range(y.shape[0]):\n",
    "                    dw[i] += (1/n)*(epsilon*X[j][i])\n",
    "    for i in range(w.shape[0]):\n",
    "        dw[i] += 2*alpha*w[i]\n",
    "                    \n",
    "    #db  \n",
    "    for i in range(y.shape[0]):\n",
    "        if(abs((w.T@X[i] + b) - y[i])<= epsilon):\n",
    "            db += ((w.T@X[i] - y[i] + b))\n",
    "        else:\n",
    "            if((w.T@X[i] + b - y[i]) < 0):\n",
    "                db -= epsilon\n",
    "            elif((w.T@X[i] + b - y[i]) > 0):\n",
    "                db += epsilon\n",
    "    db = (1/n)*db\n",
    "    \n",
    "    return loss, dw, np.array(db).reshape(1,)\n"
   ]
  },
  {
   "cell_type": "markdown",
   "id": "92ca4921",
   "metadata": {},
   "source": [
    "##### without regularization"
   ]
  },
  {
   "cell_type": "code",
   "execution_count": 102,
   "id": "7ae434b9",
   "metadata": {
    "deletable": false,
    "editable": false,
    "nbgrader": {
     "cell_type": "code",
     "checksum": "2e49c0c5b9c763c872c9eccf3c34e14f",
     "grade": true,
     "grade_id": "cell-88996bb95da97f10",
     "locked": true,
     "points": 1,
     "schema_version": 3,
     "solution": false,
     "task": false
    }
   },
   "outputs": [
    {
     "name": "stdout",
     "output_type": "stream",
     "text": [
      "Gradient check w\n",
      "numerical: -17.081635 analytic: -17.081635, relative error: 8.349409e-11\n",
      "numerical: -17.081635 analytic: -17.081635, relative error: 8.349409e-11\n",
      "numerical: -15.034651 analytic: -15.034651, relative error: 1.563721e-11\n",
      "numerical: -4.878257 analytic: -4.878257, relative error: 7.787857e-11\n",
      "numerical: -8.484256 analytic: -8.484256, relative error: 3.140104e-11\n",
      "numerical: -24.914970 analytic: -24.914970, relative error: 1.699002e-12\n",
      "numerical: -15.034651 analytic: -15.034651, relative error: 1.563721e-11\n",
      "numerical: -24.914970 analytic: -24.914970, relative error: 1.699002e-12\n",
      "numerical: -15.034651 analytic: -15.034651, relative error: 1.563721e-11\n",
      "numerical: -92.576117 analytic: -92.576117, relative error: 5.189221e-12\n",
      "numerical: -24.914970 analytic: -24.914970, relative error: 1.699002e-12\n",
      "numerical: -8.484256 analytic: -8.484256, relative error: 3.140104e-11\n",
      "numerical: -551.120158 analytic: -551.120158, relative error: 8.021323e-13\n",
      "numerical: -92.576117 analytic: -92.576117, relative error: 5.189221e-12\n",
      "numerical: -15.034651 analytic: -15.034651, relative error: 1.563721e-11\n",
      "Gradient check bias\n",
      "numerical: -1.350000 analytic: -1.350000, relative error: 2.755184e-10\n",
      "numerical: -1.350000 analytic: -1.350000, relative error: 2.755184e-10\n",
      "numerical: -1.350000 analytic: -1.350000, relative error: 2.755184e-10\n",
      "numerical: -1.350000 analytic: -1.350000, relative error: 2.755184e-10\n",
      "numerical: -1.350000 analytic: -1.350000, relative error: 2.755184e-10\n",
      "numerical: -1.350000 analytic: -1.350000, relative error: 2.755184e-10\n",
      "numerical: -1.350000 analytic: -1.350000, relative error: 2.755184e-10\n",
      "numerical: -1.350000 analytic: -1.350000, relative error: 2.755184e-10\n",
      "numerical: -1.350000 analytic: -1.350000, relative error: 2.755184e-10\n",
      "numerical: -1.350000 analytic: -1.350000, relative error: 2.755184e-10\n",
      "numerical: -1.350000 analytic: -1.350000, relative error: 2.755184e-10\n",
      "numerical: -1.350000 analytic: -1.350000, relative error: 2.755184e-10\n",
      "numerical: -1.350000 analytic: -1.350000, relative error: 2.755184e-10\n",
      "numerical: -1.350000 analytic: -1.350000, relative error: 2.755184e-10\n",
      "numerical: -1.350000 analytic: -1.350000, relative error: 2.755184e-10\n",
      "Gradient check w large epsilon\n",
      "numerical: -146.190190 analytic: -146.190190, relative error: 4.754248e-12\n",
      "numerical: -146.190190 analytic: -146.190190, relative error: 4.754248e-12\n",
      "numerical: -333.227530 analytic: -333.227530, relative error: 3.139947e-12\n",
      "numerical: -8320.601871 analytic: -8320.601871, relative error: 6.587894e-13\n",
      "numerical: -8483.838794 analytic: -8483.838794, relative error: 4.610810e-13\n",
      "numerical: -220.765458 analytic: -220.765458, relative error: 5.761910e-11\n",
      "numerical: -220.765458 analytic: -220.765458, relative error: 5.761910e-11\n",
      "numerical: -12.054836 analytic: -12.054836, relative error: 2.635117e-10\n",
      "numerical: -1.968098 analytic: -1.968098, relative error: 2.371897e-10\n",
      "numerical: -50.937366 analytic: -50.937366, relative error: 6.447742e-11\n",
      "numerical: -50.937366 analytic: -50.937366, relative error: 6.447742e-11\n",
      "numerical: -220.765458 analytic: -220.765458, relative error: 5.761910e-11\n",
      "numerical: -184.991033 analytic: -184.991033, relative error: 5.269617e-11\n",
      "numerical: -184.991033 analytic: -184.991033, relative error: 5.269617e-11\n",
      "numerical: -406.076629 analytic: -406.076629, relative error: 1.686076e-11\n",
      "Gradient check bias large epsilon\n",
      "numerical: -22.548642 analytic: -22.548642, relative error: 4.458320e-10\n",
      "numerical: -22.548642 analytic: -22.548642, relative error: 4.458320e-10\n",
      "numerical: -22.548642 analytic: -22.548642, relative error: 4.458320e-10\n",
      "numerical: -22.548642 analytic: -22.548642, relative error: 4.458320e-10\n",
      "numerical: -22.548642 analytic: -22.548642, relative error: 4.458320e-10\n",
      "numerical: -22.548642 analytic: -22.548642, relative error: 4.458320e-10\n",
      "numerical: -22.548642 analytic: -22.548642, relative error: 4.458320e-10\n",
      "numerical: -22.548642 analytic: -22.548642, relative error: 4.458320e-10\n",
      "numerical: -22.548642 analytic: -22.548642, relative error: 4.458320e-10\n",
      "numerical: -22.548642 analytic: -22.548642, relative error: 4.458320e-10\n",
      "numerical: -22.548642 analytic: -22.548642, relative error: 4.458320e-10\n",
      "numerical: -22.548642 analytic: -22.548642, relative error: 4.458320e-10\n",
      "numerical: -22.548642 analytic: -22.548642, relative error: 4.458320e-10\n",
      "numerical: -22.548642 analytic: -22.548642, relative error: 4.458320e-10\n",
      "numerical: -22.548642 analytic: -22.548642, relative error: 4.458320e-10\n"
     ]
    }
   ],
   "source": [
    "loss, dw1, db1 = huber_loss_naive(w1, b1, X_train1, y_train1, epsilon=1.35, alpha=0)\n",
    "\n",
    "print(\"Gradient check w\")\n",
    "# Check with numerical gradient w\n",
    "f = lambda w1: huber_loss_naive(w1, b1, X_train1, y_train1, epsilon=1.35, alpha=0)[0]\n",
    "grad_numerical = grad_check_sparse(f, w1, dw1, 15, error=1e-9)\n",
    "\n",
    "print(\"Gradient check bias\")\n",
    "# Check with numerical gradient b\n",
    "f2 = lambda b1: huber_loss_naive(w1, b1, X_train1, y_train1, epsilon=1.35, alpha=0)[0]\n",
    "grad_numerical = grad_check_sparse(f2, b1, db1, 15, error=1e-9)\n",
    "\n",
    "\n",
    "# Large epsilon\n",
    "large_eps_loss, large_eps_dw1, large_eps_db1 = huber_loss_naive(w1, b1, X_train1, y_train1, epsilon=135, alpha=0)\n",
    "\n",
    "print(\"Gradient check w large epsilon\")\n",
    "# Check with numerical gradient w\n",
    "f = lambda w1: huber_loss_naive(w1, b1, X_train1, y_train1, epsilon=135, alpha=0)[0]\n",
    "grad_numerical = grad_check_sparse(f, w1, large_eps_dw1, 15, error=1e-9)\n",
    "\n",
    "print(\"Gradient check bias large epsilon\")\n",
    "# Check with numerical gradient b\n",
    "f2 = lambda b1: huber_loss_naive(w1, b1, X_train1, y_train1, epsilon=135, alpha=0)[0]\n",
    "grad_numerical = grad_check_sparse(f2, b1, large_eps_db1, 15, error=1e-9)"
   ]
  },
  {
   "cell_type": "markdown",
   "id": "9f2b3314",
   "metadata": {},
   "source": [
    " ## with regularization"
   ]
  },
  {
   "cell_type": "code",
   "execution_count": 103,
   "id": "20ed0b8d",
   "metadata": {
    "deletable": false,
    "editable": false,
    "nbgrader": {
     "cell_type": "code",
     "checksum": "42c6c09b6a3764a91aa10791fd05545e",
     "grade": true,
     "grade_id": "cell-6cfedcc6f02a9770",
     "locked": true,
     "points": 1,
     "schema_version": 3,
     "solution": false,
     "task": false
    }
   },
   "outputs": [
    {
     "name": "stdout",
     "output_type": "stream",
     "text": [
      "Gradient check w\n",
      "numerical: -4.878419 analytic: -4.878419, relative error: 8.363409e-11\n",
      "numerical: -0.748573 analytic: -0.748573, relative error: 8.997874e-10\n",
      "numerical: -8.484288 analytic: -8.484288, relative error: 3.180375e-11\n",
      "numerical: -15.034730 analytic: -15.034730, relative error: 1.261212e-11\n",
      "numerical: -24.914892 analytic: -24.914892, relative error: 2.856300e-12\n",
      "numerical: -0.748573 analytic: -0.748573, relative error: 8.997874e-10\n",
      "numerical: -551.120353 analytic: -551.120353, relative error: 8.217289e-13\n",
      "numerical: -15.034730 analytic: -15.034730, relative error: 1.261212e-11\n",
      "numerical: -0.748573 analytic: -0.748573, relative error: 8.997874e-10\n",
      "numerical: -0.094001 analytic: -0.094001, relative error: 2.918148e-09\n"
     ]
    },
    {
     "ename": "AssertionError",
     "evalue": "",
     "output_type": "error",
     "traceback": [
      "\u001b[0;31m---------------------------------------------------------------------------\u001b[0m",
      "\u001b[0;31mAssertionError\u001b[0m                            Traceback (most recent call last)",
      "\u001b[0;32m<ipython-input-103-bd27fc882a8b>\u001b[0m in \u001b[0;36m<module>\u001b[0;34m\u001b[0m\n\u001b[1;32m      4\u001b[0m \u001b[0;31m# Check with numerical gradient w\u001b[0m\u001b[0;34m\u001b[0m\u001b[0;34m\u001b[0m\u001b[0;34m\u001b[0m\u001b[0m\n\u001b[1;32m      5\u001b[0m \u001b[0mf\u001b[0m \u001b[0;34m=\u001b[0m \u001b[0;32mlambda\u001b[0m \u001b[0mw1\u001b[0m\u001b[0;34m:\u001b[0m \u001b[0mhuber_loss_naive\u001b[0m\u001b[0;34m(\u001b[0m\u001b[0mw1\u001b[0m\u001b[0;34m,\u001b[0m \u001b[0mb1\u001b[0m\u001b[0;34m,\u001b[0m \u001b[0mX_train1\u001b[0m\u001b[0;34m,\u001b[0m \u001b[0my_train1\u001b[0m\u001b[0;34m,\u001b[0m \u001b[0mepsilon\u001b[0m\u001b[0;34m=\u001b[0m\u001b[0;36m1.35\u001b[0m\u001b[0;34m,\u001b[0m \u001b[0malpha\u001b[0m\u001b[0;34m=\u001b[0m\u001b[0;36m1\u001b[0m\u001b[0;34m)\u001b[0m\u001b[0;34m[\u001b[0m\u001b[0;36m0\u001b[0m\u001b[0;34m]\u001b[0m\u001b[0;34m\u001b[0m\u001b[0;34m\u001b[0m\u001b[0m\n\u001b[0;32m----> 6\u001b[0;31m \u001b[0mgrad_numerical\u001b[0m \u001b[0;34m=\u001b[0m \u001b[0mgrad_check_sparse\u001b[0m\u001b[0;34m(\u001b[0m\u001b[0mf\u001b[0m\u001b[0;34m,\u001b[0m \u001b[0mw1\u001b[0m\u001b[0;34m,\u001b[0m \u001b[0mdw1\u001b[0m\u001b[0;34m,\u001b[0m \u001b[0;36m15\u001b[0m\u001b[0;34m,\u001b[0m \u001b[0merror\u001b[0m\u001b[0;34m=\u001b[0m\u001b[0;36m1e-9\u001b[0m\u001b[0;34m)\u001b[0m\u001b[0;34m\u001b[0m\u001b[0;34m\u001b[0m\u001b[0m\n\u001b[0m\u001b[1;32m      7\u001b[0m \u001b[0;34m\u001b[0m\u001b[0m\n\u001b[1;32m      8\u001b[0m \u001b[0mprint\u001b[0m\u001b[0;34m(\u001b[0m\u001b[0;34m\"Gradient check bias\"\u001b[0m\u001b[0;34m)\u001b[0m\u001b[0;34m\u001b[0m\u001b[0;34m\u001b[0m\u001b[0m\n",
      "\u001b[0;32m<ipython-input-66-df4e299c0af7>\u001b[0m in \u001b[0;36mgrad_check_sparse\u001b[0;34m(f, x, analytic_grad, num_checks, h, error)\u001b[0m\n\u001b[1;32m     36\u001b[0m             \u001b[0;34m%\u001b[0m \u001b[0;34m(\u001b[0m\u001b[0mgrad_numerical\u001b[0m\u001b[0;34m,\u001b[0m \u001b[0mgrad_analytic\u001b[0m\u001b[0;34m,\u001b[0m \u001b[0mrel_error\u001b[0m\u001b[0;34m)\u001b[0m\u001b[0;34m\u001b[0m\u001b[0;34m\u001b[0m\u001b[0m\n\u001b[1;32m     37\u001b[0m         )\n\u001b[0;32m---> 38\u001b[0;31m         \u001b[0;32massert\u001b[0m \u001b[0mrel_error\u001b[0m \u001b[0;34m<\u001b[0m \u001b[0merror\u001b[0m\u001b[0;34m\u001b[0m\u001b[0;34m\u001b[0m\u001b[0m\n\u001b[0m\u001b[1;32m     39\u001b[0m \u001b[0;34m\u001b[0m\u001b[0m\n\u001b[1;32m     40\u001b[0m \u001b[0;32mdef\u001b[0m \u001b[0mrel_error\u001b[0m\u001b[0;34m(\u001b[0m\u001b[0mx\u001b[0m\u001b[0;34m,\u001b[0m \u001b[0my\u001b[0m\u001b[0;34m)\u001b[0m\u001b[0;34m:\u001b[0m\u001b[0;34m\u001b[0m\u001b[0;34m\u001b[0m\u001b[0m\n",
      "\u001b[0;31mAssertionError\u001b[0m: "
     ]
    }
   ],
   "source": [
    "loss, dw1, db1 = huber_loss_naive(w1, b1, X_train1, y_train1, epsilon=1.35, alpha=1)\n",
    "\n",
    "print(\"Gradient check w\")\n",
    "# Check with numerical gradient w\n",
    "f = lambda w1: huber_loss_naive(w1, b1, X_train1, y_train1, epsilon=1.35, alpha=1)[0]\n",
    "grad_numerical = grad_check_sparse(f, w1, dw1, 15, error=1e-9)\n",
    "\n",
    "print(\"Gradient check bias\")\n",
    "# Check with numerical gradient b\n",
    "f2 = lambda b1: huber_loss_naive(w1, b1, X_train1, y_train1, epsilon=1.35, alpha=1)[0]\n",
    "grad_numerical = grad_check_sparse(f2, b1, db1, 15, error=1e-9)\n",
    "\n",
    "\n",
    "# Large epsilon\n",
    "large_eps_loss, large_eps_dw1, large_eps_db1 = huber_loss_naive(w1, b1, X_train1, y_train1, epsilon=135, alpha=1)\n",
    "\n",
    "print(\"Gradient check w large epsilon\")\n",
    "# Check with numerical gradient w\n",
    "f = lambda w1: huber_loss_naive(w1, b1, X_train1, y_train1, epsilon=135, alpha=1)[0]\n",
    "grad_numerical = grad_check_sparse(f, w1, large_eps_dw1, 15, error=1e-9)\n",
    "\n",
    "print(\"Gradient check bias large epsilon\")\n",
    "# Check with numerical gradient b\n",
    "f2 = lambda b1: huber_loss_naive(w1, b1, X_train1, y_train1, epsilon=135, alpha=1)[0]\n",
    "grad_numerical = grad_check_sparse(f2, b1, large_eps_db1, 15, error=1e-9)"
   ]
  },
  {
   "cell_type": "code",
   "execution_count": 129,
   "id": "038cf336",
   "metadata": {
    "deletable": false,
    "nbgrader": {
     "cell_type": "code",
     "checksum": "6809cf643812e18004a8e019e8648ee7",
     "grade": false,
     "grade_id": "cell-2f0ecc6405bdde00",
     "locked": false,
     "schema_version": 3,
     "solution": true,
     "task": false
    }
   },
   "outputs": [],
   "source": [
    "def huber_loss_vectorized(w, b, X, y, epsilon=1.35, alpha=0.0001):\n",
    "    \"\"\"\n",
    "    Huber loss for all observations\n",
    "    \n",
    "    Inputs:\n",
    "    - w: array of shape (D,) containing weights\n",
    "    - b: float bias \n",
    "    - X: array of shape (N, D) containing a minibatch of data\n",
    "    - y: array of shape (N,) containing training labels \n",
    "    - epsilon: float\n",
    "    - alpha: regularization\n",
    "    \"\"\"\n",
    "    loss = 0.0\n",
    "    dw = np.zeros_like(w)\n",
    "    db = 0\n",
    "    \n",
    "    n = y.shape[0] #Number of samples\n",
    "    f = (X @ w +b) - y\n",
    "    tmp = np.copy(f)\n",
    "    \n",
    "    #loss\n",
    "    c_inf = np.abs(f) <= epsilon\n",
    "    c_sup = np.abs(f) > epsilon\n",
    "    \n",
    "    loss_1 = f**2/2\n",
    "    loss_2 = epsilon  * np.fabs(f) - epsilon**2/2\n",
    "    \n",
    "    tmp[c_inf] = loss_1[c_inf]\n",
    "    tmp[c_sup] = loss_2[c_sup]\n",
    "    \n",
    "    loss = (1/n) * np.sum(tmp) + alpha * (w.T @ w)\n",
    "    \n",
    "    #dw  \n",
    "    loss_1 = f\n",
    "    loss_2 = epsilon*(np.sign(f))\n",
    "    \n",
    "    tmp[c_inf] = loss_1[c_inf]\n",
    "    tmp[c_sup] = loss_2[c_sup]\n",
    "     \n",
    "    dw = (1/n)*(X.T @ tmp) + 2*alpha*w\n",
    "   \n",
    "    #db\n",
    "    db = (1/n) * np.sum(tmp)\n",
    "    \n",
    "    return loss, dw, np.array(db).reshape(1,)\n",
    "     # YOUR CODE HERE\n",
    "   \"\"\" loss = 0.0\n",
    "    dw = np.zeros_like(w)\n",
    "    db = 0\n",
    "    \n",
    "    f = (X@w +b -y)\n",
    "    tmp = f.copy(tmp)\n",
    "    #loss\n",
    "    c1 = np.abs(f) <= epsilon\n",
    "    c2 = np.abs(f) > epsilon\n",
    "    \n",
    "    loss1 = (f**2)/2\n",
    "    loss2 = epsilon * np.abs(f) - (epsilon**2)/2\n",
    "    \n",
    "    tmp[c1] = loss1[c1]\n",
    "    tmp[c2] = loss2[c2]\n",
    "    \n",
    "    loss =  np.sum(tmp) + alpha*(w.T@w)\n",
    "    \n",
    "    #dw\n",
    "    loss1 = f\n",
    "    loss2 = epsilon*np.sign(f)\n",
    "    \n",
    "    tmp[c1] = loss1[c1]\n",
    "    tmp[c2] = loss2[c2]\n",
    "   \"\"\" \n",
    "   \n",
    "    \n",
    "    \n",
    "    \"\"\"return loss, dw, np.array(db).reshape(1,)\"\"\"\n",
    "\n"
   ]
  },
  {
   "cell_type": "markdown",
   "id": "292f866a",
   "metadata": {},
   "source": [
    "## without regularization"
   ]
  },
  {
   "cell_type": "code",
   "execution_count": 130,
   "id": "ff23bae6",
   "metadata": {
    "deletable": false,
    "editable": false,
    "nbgrader": {
     "cell_type": "code",
     "checksum": "cadca09dc4ee08cf4c73480cfdc14e13",
     "grade": true,
     "grade_id": "cell-cecbe864e0fa149c",
     "locked": true,
     "points": 1.5,
     "schema_version": 3,
     "solution": false,
     "task": false
    }
   },
   "outputs": [
    {
     "name": "stdout",
     "output_type": "stream",
     "text": [
      "Gradient check w\n",
      "numerical: -17.081635 analytic: -17.081635, relative error: 3.005375e-13\n",
      "numerical: -92.576117 analytic: -92.576117, relative error: 5.658178e-13\n",
      "numerical: -8.484256 analytic: -8.484256, relative error: 1.046426e-11\n",
      "numerical: -12.891700 analytic: -12.891700, relative error: 8.038712e-13\n",
      "numerical: -0.093379 analytic: -0.093379, relative error: 6.023259e-10\n",
      "numerical: -8.484256 analytic: -8.484256, relative error: 1.046426e-11\n",
      "numerical: -15.340909 analytic: -15.340909, relative error: 1.861069e-12\n",
      "numerical: -12.891700 analytic: -12.891700, relative error: 8.038712e-13\n",
      "numerical: -15.340909 analytic: -15.340909, relative error: 1.861069e-12\n",
      "numerical: -4.878257 analytic: -4.878257, relative error: 5.050771e-12\n",
      "numerical: -551.120158 analytic: -551.120158, relative error: 1.031416e-15\n",
      "numerical: -0.093379 analytic: -0.093379, relative error: 6.023259e-10\n",
      "numerical: -15.340909 analytic: -15.340909, relative error: 1.861069e-12\n",
      "numerical: -92.576117 analytic: -92.576117, relative error: 5.658178e-13\n",
      "numerical: -12.891700 analytic: -12.891700, relative error: 8.038712e-13\n",
      "Gradient check bias\n",
      "numerical: -1.350000 analytic: -1.350000, relative error: 5.344120e-11\n",
      "numerical: -1.350000 analytic: -1.350000, relative error: 5.344120e-11\n",
      "numerical: -1.350000 analytic: -1.350000, relative error: 5.344120e-11\n",
      "numerical: -1.350000 analytic: -1.350000, relative error: 5.344120e-11\n",
      "numerical: -1.350000 analytic: -1.350000, relative error: 5.344120e-11\n",
      "numerical: -1.350000 analytic: -1.350000, relative error: 5.344120e-11\n",
      "numerical: -1.350000 analytic: -1.350000, relative error: 5.344120e-11\n",
      "numerical: -1.350000 analytic: -1.350000, relative error: 5.344120e-11\n",
      "numerical: -1.350000 analytic: -1.350000, relative error: 5.344120e-11\n",
      "numerical: -1.350000 analytic: -1.350000, relative error: 5.344120e-11\n",
      "numerical: -1.350000 analytic: -1.350000, relative error: 5.344120e-11\n",
      "numerical: -1.350000 analytic: -1.350000, relative error: 5.344120e-11\n",
      "numerical: -1.350000 analytic: -1.350000, relative error: 5.344120e-11\n",
      "numerical: -1.350000 analytic: -1.350000, relative error: 5.344120e-11\n",
      "numerical: -1.350000 analytic: -1.350000, relative error: 5.344120e-11\n",
      "Gradient check w large epsilon\n",
      "numerical: -8483.838794 analytic: -8483.838794, relative error: 4.148764e-14\n",
      "numerical: -146.190190 analytic: -146.190190, relative error: 4.754248e-12\n",
      "numerical: -1449.206387 analytic: -1449.206387, relative error: 2.972382e-13\n",
      "numerical: -333.227530 analytic: -333.227530, relative error: 1.124663e-12\n",
      "numerical: -12.054836 analytic: -12.054836, relative error: 9.014356e-11\n",
      "numerical: -220.765458 analytic: -220.765458, relative error: 6.751727e-12\n",
      "numerical: -146.190190 analytic: -146.190190, relative error: 4.754248e-12\n",
      "numerical: -237.047792 analytic: -237.047792, relative error: 6.016214e-12\n",
      "numerical: -12.054836 analytic: -12.054836, relative error: 9.014356e-11\n",
      "numerical: -12.054836 analytic: -12.054836, relative error: 9.014356e-11\n",
      "numerical: -333.227530 analytic: -333.227530, relative error: 1.124663e-12\n",
      "numerical: -146.190190 analytic: -146.190190, relative error: 4.754248e-12\n",
      "numerical: -406.076629 analytic: -406.076629, relative error: 6.369881e-13\n",
      "numerical: -1.968098 analytic: -1.968098, relative error: 2.371897e-10\n",
      "numerical: -333.227530 analytic: -333.227530, relative error: 1.124663e-12\n",
      "Gradient check bias large epsilon\n",
      "numerical: -22.548642 analytic: -22.548642, relative error: 5.835286e-11\n",
      "numerical: -22.548642 analytic: -22.548642, relative error: 5.835286e-11\n",
      "numerical: -22.548642 analytic: -22.548642, relative error: 5.835286e-11\n",
      "numerical: -22.548642 analytic: -22.548642, relative error: 5.835286e-11\n",
      "numerical: -22.548642 analytic: -22.548642, relative error: 5.835286e-11\n",
      "numerical: -22.548642 analytic: -22.548642, relative error: 5.835286e-11\n",
      "numerical: -22.548642 analytic: -22.548642, relative error: 5.835286e-11\n",
      "numerical: -22.548642 analytic: -22.548642, relative error: 5.835286e-11\n",
      "numerical: -22.548642 analytic: -22.548642, relative error: 5.835286e-11\n",
      "numerical: -22.548642 analytic: -22.548642, relative error: 5.835286e-11\n",
      "numerical: -22.548642 analytic: -22.548642, relative error: 5.835286e-11\n",
      "numerical: -22.548642 analytic: -22.548642, relative error: 5.835286e-11\n",
      "numerical: -22.548642 analytic: -22.548642, relative error: 5.835286e-11\n",
      "numerical: -22.548642 analytic: -22.548642, relative error: 5.835286e-11\n",
      "numerical: -22.548642 analytic: -22.548642, relative error: 5.835286e-11\n"
     ]
    }
   ],
   "source": [
    "loss, dw1, db1 = huber_loss_vectorized(w1, b1, X_train1, y_train1, epsilon=1.35, alpha=0)\n",
    "\n",
    "print(\"Gradient check w\")\n",
    "# Check with numerical gradient w\n",
    "f = lambda w1: huber_loss_vectorized(w1, b1, X_train1, y_train1, epsilon=1.35, alpha=0)[0]\n",
    "grad_numerical = grad_check_sparse(f, w1, dw1, 15, error=1e-9)\n",
    "\n",
    "print(\"Gradient check bias\")\n",
    "# Check with numerical gradient b\n",
    "f2 = lambda b1: huber_loss_vectorized(w1, b1, X_train1, y_train1, epsilon=1.35, alpha=0)[0]\n",
    "grad_numerical = grad_check_sparse(f2, b1, db1, 15, error=1e-9)\n",
    "\n",
    "\n",
    "# Large epsilon\n",
    "large_eps_loss, large_eps_dw1, large_eps_db1 = huber_loss_naive(w1, b1, X_train1, y_train1, epsilon=135, alpha=0)\n",
    "\n",
    "print(\"Gradient check w large epsilon\")\n",
    "# Check with numerical gradient w\n",
    "f = lambda w1: huber_loss_vectorized(w1, b1, X_train1, y_train1, epsilon=135, alpha=0)[0]\n",
    "grad_numerical = grad_check_sparse(f, w1, large_eps_dw1, 15, error=1e-9)\n",
    "\n",
    "print(\"Gradient check bias large epsilon\")\n",
    "# Check with numerical gradient b\n",
    "f2 = lambda b1: huber_loss_vectorized(w1, b1, X_train1, y_train1, epsilon=135, alpha=0)[0]\n",
    "grad_numerical = grad_check_sparse(f2, b1, large_eps_db1, 15, error=1e-9)"
   ]
  },
  {
   "cell_type": "markdown",
   "id": "5d367b1c",
   "metadata": {},
   "source": [
    "## with regularization"
   ]
  },
  {
   "cell_type": "code",
   "execution_count": 131,
   "id": "ee9c47a5",
   "metadata": {
    "deletable": false,
    "editable": false,
    "nbgrader": {
     "cell_type": "code",
     "checksum": "353c4a3ff31d5ae93f310db8aada6b16",
     "grade": true,
     "grade_id": "cell-fc0f22937553dd38",
     "locked": true,
     "points": 1.5,
     "schema_version": 3,
     "solution": false,
     "task": false
    }
   },
   "outputs": [
    {
     "name": "stdout",
     "output_type": "stream",
     "text": [
      "Gradient check w\n",
      "numerical: -17.081660 analytic: -17.081660, relative error: 3.130993e-12\n",
      "numerical: -4.878419 analytic: -4.878419, relative error: 1.080870e-11\n",
      "numerical: -5.123266 analytic: -5.123266, relative error: 4.746732e-12\n",
      "numerical: -92.576201 analytic: -92.576201, relative error: 1.545789e-13\n",
      "numerical: -24.914892 analytic: -24.914892, relative error: 2.858082e-12\n",
      "numerical: -17.081660 analytic: -17.081660, relative error: 3.130993e-12\n",
      "numerical: -8.484288 analytic: -8.484288, relative error: 1.086704e-11\n",
      "numerical: -92.576201 analytic: -92.576201, relative error: 1.545789e-13\n",
      "numerical: -15.034730 analytic: -15.034730, relative error: 7.967461e-13\n",
      "numerical: -4.878419 analytic: -4.878419, relative error: 1.080870e-11\n",
      "numerical: -0.094001 analytic: -0.094001, relative error: 8.612960e-10\n",
      "numerical: -551.120353 analytic: -551.120353, relative error: 1.856548e-14\n",
      "numerical: -551.120353 analytic: -551.120353, relative error: 1.856548e-14\n",
      "numerical: -17.081660 analytic: -17.081660, relative error: 3.130993e-12\n",
      "numerical: -15.340914 analytic: -15.340914, relative error: 1.169211e-12\n",
      "Gradient check bias\n",
      "numerical: -1.350000 analytic: -1.350000, relative error: 5.344120e-11\n",
      "numerical: -1.350000 analytic: -1.350000, relative error: 5.344120e-11\n",
      "numerical: -1.350000 analytic: -1.350000, relative error: 5.344120e-11\n",
      "numerical: -1.350000 analytic: -1.350000, relative error: 5.344120e-11\n",
      "numerical: -1.350000 analytic: -1.350000, relative error: 5.344120e-11\n",
      "numerical: -1.350000 analytic: -1.350000, relative error: 5.344120e-11\n",
      "numerical: -1.350000 analytic: -1.350000, relative error: 5.344120e-11\n",
      "numerical: -1.350000 analytic: -1.350000, relative error: 5.344120e-11\n",
      "numerical: -1.350000 analytic: -1.350000, relative error: 5.344120e-11\n",
      "numerical: -1.350000 analytic: -1.350000, relative error: 5.344120e-11\n",
      "numerical: -1.350000 analytic: -1.350000, relative error: 5.344120e-11\n",
      "numerical: -1.350000 analytic: -1.350000, relative error: 5.344120e-11\n",
      "numerical: -1.350000 analytic: -1.350000, relative error: 5.344120e-11\n",
      "numerical: -1.350000 analytic: -1.350000, relative error: 5.344120e-11\n",
      "numerical: -1.350000 analytic: -1.350000, relative error: 5.344120e-11\n",
      "Gradient check w large epsilon\n",
      "numerical: -406.076551 analytic: -406.076551, relative error: 2.354078e-12\n",
      "numerical: -8483.838990 analytic: -8483.838990, relative error: 6.367870e-14\n",
      "numerical: -237.047817 analytic: -237.047817, relative error: 3.222695e-12\n",
      "numerical: -12.054571 analytic: -12.054571, relative error: 2.696607e-11\n",
      "numerical: -146.190222 analytic: -146.190222, relative error: 2.908171e-12\n",
      "numerical: -146.190222 analytic: -146.190222, relative error: 2.908171e-12\n",
      "numerical: -12.054571 analytic: -12.054571, relative error: 2.696607e-11\n",
      "numerical: -237.047817 analytic: -237.047817, relative error: 3.222695e-12\n",
      "numerical: -184.991009 analytic: -184.991009, relative error: 9.789988e-12\n",
      "numerical: -406.076551 analytic: -406.076551, relative error: 2.354078e-12\n",
      "numerical: -333.227535 analytic: -333.227535, relative error: 2.372147e-12\n",
      "numerical: -50.937528 analytic: -50.937528, relative error: 1.343610e-11\n",
      "numerical: -1.968719 analytic: -1.968719, relative error: 6.305903e-10\n",
      "numerical: -184.991009 analytic: -184.991009, relative error: 9.789988e-12\n",
      "numerical: -50.937528 analytic: -50.937528, relative error: 1.343610e-11\n",
      "Gradient check bias large epsilon\n",
      "numerical: -22.548642 analytic: -22.548642, relative error: 5.835286e-11\n",
      "numerical: -22.548642 analytic: -22.548642, relative error: 5.835286e-11\n",
      "numerical: -22.548642 analytic: -22.548642, relative error: 5.835286e-11\n",
      "numerical: -22.548642 analytic: -22.548642, relative error: 5.835286e-11\n",
      "numerical: -22.548642 analytic: -22.548642, relative error: 5.835286e-11\n",
      "numerical: -22.548642 analytic: -22.548642, relative error: 5.835286e-11\n",
      "numerical: -22.548642 analytic: -22.548642, relative error: 5.835286e-11\n",
      "numerical: -22.548642 analytic: -22.548642, relative error: 5.835286e-11\n",
      "numerical: -22.548642 analytic: -22.548642, relative error: 5.835286e-11\n",
      "numerical: -22.548642 analytic: -22.548642, relative error: 5.835286e-11\n",
      "numerical: -22.548642 analytic: -22.548642, relative error: 5.835286e-11\n",
      "numerical: -22.548642 analytic: -22.548642, relative error: 5.835286e-11\n",
      "numerical: -22.548642 analytic: -22.548642, relative error: 5.835286e-11\n",
      "numerical: -22.548642 analytic: -22.548642, relative error: 5.835286e-11\n",
      "numerical: -22.548642 analytic: -22.548642, relative error: 5.835286e-11\n"
     ]
    }
   ],
   "source": [
    "loss, dw1, db1 = huber_loss_vectorized(w1, b1, X_train1, y_train1, epsilon=1.35, alpha=1)\n",
    "\n",
    "print(\"Gradient check w\")\n",
    "# Check with numerical gradient w\n",
    "f = lambda w1: huber_loss_vectorized(w1, b1, X_train1, y_train1, epsilon=1.35, alpha=1)[0]\n",
    "grad_numerical = grad_check_sparse(f, w1, dw1, 15, error=1e-9)\n",
    "\n",
    "print(\"Gradient check bias\")\n",
    "# Check with numerical gradient b\n",
    "f2 = lambda b1: huber_loss_vectorized(w1, b1, X_train1, y_train1, epsilon=1.35, alpha=1)[0]\n",
    "grad_numerical = grad_check_sparse(f2, b1, db1, 15, error=1e-9)\n",
    "\n",
    "\n",
    "# Large epsilon\n",
    "large_eps_loss, large_eps_dw1, large_eps_db1 = huber_loss_naive(w1, b1, X_train1, y_train1, epsilon=135, alpha=1)\n",
    "\n",
    "print(\"Gradient check w large epsilon\")\n",
    "# Check with numerical gradient w\n",
    "f = lambda w1: huber_loss_vectorized(w1, b1, X_train1, y_train1, epsilon=135, alpha=1)[0]\n",
    "grad_numerical = grad_check_sparse(f, w1, large_eps_dw1, 15, error=1e-9)\n",
    "\n",
    "print(\"Gradient check bias large epsilon\")\n",
    "# Check with numerical gradient b\n",
    "f2 = lambda b1: huber_loss_vectorized(w1, b1, X_train1, y_train1, epsilon=135, alpha=1)[0]\n",
    "grad_numerical = grad_check_sparse(f2, b1, large_eps_db1, 15, error=1e-9)"
   ]
  },
  {
   "cell_type": "code",
   "execution_count": 132,
   "id": "ed260f95",
   "metadata": {
    "deletable": false,
    "nbgrader": {
     "cell_type": "code",
     "checksum": "51a2209d0893d2b94c64bc684159f81c",
     "grade": false,
     "grade_id": "cell-9bc0bf420f2797ba",
     "locked": false,
     "schema_version": 3,
     "solution": true,
     "task": false
    }
   },
   "outputs": [],
   "source": [
    "class LinearModel():\n",
    "    def __init__(self):\n",
    "        self.w = None\n",
    "        self.b = None\n",
    "\n",
    "    def train(self, X, y, learning_rate=1e-3, alpha=0.0001, num_iters=100, batch_size=200, verbose=False):\n",
    "        N, d = X.shape\n",
    "        \n",
    "        if self.w is None: # Initialization\n",
    "            self.w = 0.001 * np.random.randn(d)\n",
    "            self.b = 0.0\n",
    "\n",
    "        # Run stochastic gradient descent to optimize w\n",
    "        \n",
    "        loss_history = []\n",
    "        for it in range(num_iters):\n",
    "            X_batch = None\n",
    "            y_batch = None\n",
    "                                                               \n",
    "            # Sample batch_size elements in X_batch and y_batch\n",
    "            # X_batch shape is  (batch_size, d) and y_batch shape is (batch_size,)                                                                                          \n",
    "            # Hint: Use np.random.choice to generate indices\n",
    "            # YOUR CODE HERE\n",
    "            c = np.random.choice(N,batch_size,replace=False)\n",
    "            X_batch = X[c,:]\n",
    "            y_batch = y[c]\n",
    "            \n",
    "            # evaluate loss and gradient\n",
    "            loss, dw, db = self.loss(X_batch, y_batch, alpha)\n",
    "            loss_history.append(loss)\n",
    "\n",
    "            # perform parameter update                                                                \n",
    "            # Update the weights w and bias b using the gradient and the learning rate.          \n",
    "            # YOUR CODE HERE\n",
    "            self.w -= learning_rate*dw\n",
    "            self.b -= learning_rate*db\n",
    "            \n",
    "            if verbose and it % 10000 == 0:\n",
    "                print(\"iteration %d / %d: loss %f\" % (it, num_iters, loss))\n",
    "                \n",
    "        return loss_history\n",
    "\n",
    "    def predict(self, X):\n",
    "        pass\n",
    "\n",
    "    def loss(self, X_batch, y_batch, reg):\n",
    "        pass\n",
    "\n",
    "class HuberRegression(LinearModel):\n",
    "    \"\"\" Linear regression \"\"\"\n",
    "\n",
    "    def loss(self, X_batch, y_batch, alpha):\n",
    "        return huber_loss_vectorized(self.w, self.b, X_batch, y_batch, alpha=alpha)\n",
    "    \n",
    "    def predict(self, X):\n",
    "        # YOUR CODE HERE\n",
    "        return X@self.w + self.b"
   ]
  },
  {
   "cell_type": "code",
   "execution_count": 133,
   "id": "766c7c05",
   "metadata": {
    "deletable": false,
    "editable": false,
    "nbgrader": {
     "cell_type": "code",
     "checksum": "f0baa5b2cf387331bd0a892f09b68ffc",
     "grade": true,
     "grade_id": "cell-43a5575eb3552466",
     "locked": true,
     "points": 1,
     "schema_version": 3,
     "solution": false,
     "task": false
    }
   },
   "outputs": [
    {
     "name": "stdout",
     "output_type": "stream",
     "text": [
      "iteration 0 / 75000: loss 30.514156\n",
      "iteration 10000 / 75000: loss 3.793361\n",
      "iteration 20000 / 75000: loss 4.168876\n",
      "iteration 30000 / 75000: loss 3.141731\n",
      "iteration 40000 / 75000: loss 2.725681\n",
      "iteration 50000 / 75000: loss 3.240582\n",
      "iteration 60000 / 75000: loss 3.057136\n",
      "iteration 70000 / 75000: loss 2.795261\n",
      "MSE scikit-learn: 24.04102301055777\n",
      "MSE gradient descent model : 24.42379055303109\n"
     ]
    }
   ],
   "source": [
    "from sklearn.preprocessing import StandardScaler\n",
    "\n",
    "scaler = StandardScaler()\n",
    "X_train1 = scaler.fit_transform(X_train1)\n",
    "\n",
    "sk_model = HuberRegressor(fit_intercept=True)\n",
    "sk_model.fit(X_train1, y_train1)\n",
    "sk_pred = sk_model.predict(X_train1)\n",
    "sk_mse = mean_squared_error(sk_pred, y_train1)\n",
    "\n",
    "model = HuberRegression()\n",
    "model.train(X_train1, y_train1, num_iters=75000, batch_size=64, learning_rate=1e-2, verbose=True)\n",
    "pred = model.predict(X_train1)\n",
    "mse = mean_squared_error(pred, y_train1)\n",
    "\n",
    "print(\"MSE scikit-learn:\", sk_mse)\n",
    "print(\"MSE gradient descent model :\", mse)\n",
    "assert mse - sk_mse < 1"
   ]
  },
  {
   "cell_type": "markdown",
   "id": "d4f24bf4",
   "metadata": {},
   "source": [
    "# Multinomial logistic regression"
   ]
  },
  {
   "cell_type": "code",
   "execution_count": 134,
   "id": "b194affb",
   "metadata": {
    "deletable": false,
    "editable": false,
    "nbgrader": {
     "cell_type": "code",
     "checksum": "fcf6c9bab4975732f03ce6c8215e72be",
     "grade": false,
     "grade_id": "cell-27c3352e3785ecdb",
     "locked": true,
     "schema_version": 3,
     "solution": false,
     "task": false
    }
   },
   "outputs": [],
   "source": [
    "data = load_iris()\n",
    "X_train2, y_train2 = data.data, data.target\n",
    "\n",
    "W = np.random.randn(X_train2.shape[1], 3) * 0.0001"
   ]
  },
  {
   "cell_type": "code",
   "execution_count": 136,
   "id": "d8405c63",
   "metadata": {
    "deletable": false,
    "nbgrader": {
     "cell_type": "code",
     "checksum": "af6fecc0ab19bd2c392db4255a946d03",
     "grade": false,
     "grade_id": "cell-9049b2a8d3edaeaf",
     "locked": false,
     "schema_version": 3,
     "solution": true,
     "task": false
    }
   },
   "outputs": [],
   "source": [
    "def softmax_loss_naive(W, X, y, alpha):\n",
    "    \"\"\"\n",
    "    Softmax loss function WITH FOR LOOPS\n",
    "\n",
    "    Inputs:\n",
    "    - W: array of shape (D, C) containing weights\n",
    "    - X: array of shape (N, D) containing a minibatch of data\n",
    "    - y: array of shape (N,) containing training labels\n",
    "    - alpha: (float) regularization \n",
    "\n",
    "    Returns a tuple of:\n",
    "    - loss as single float\n",
    "    - gradient with respect to weights W;  same shape as W\n",
    "    \"\"\"\n",
    "    \n",
    "    # Initialization\n",
    "    loss = 0.0\n",
    "    dW = np.zeros_like(W)\n",
    "    \n",
    "    for i in range(num_train):\n",
    "        z = X[i,:].dot(W)\n",
    "        z = z - np.max(z)\n",
    "        correct_z = z[y[i]]\n",
    "        d = np.sum(np.exp(z))\n",
    "        p = np.exp(correct_z)/d\n",
    "        \n",
    "    \n",
    "    # Tandremo ny numeric instability\n",
    "    # YOUR CODE HERE\n",
    "    \n",
    "    #https://tomaxent.com/2017/03/05/cs231n-Assignment-1-softmax/?fbclid=IwAR0Vqd25crcgQoswxlmS60W8lBnSapwJ2F5nZ3hh4EfJR1HDp3gBN_YB1sY\n",
    "\n",
    "    num_train = X.shape[0]\n",
    "    num_classes = W.shape[1]\n",
    "    \n",
    "    for i in range(num_train):\n",
    "        z = X[i, :].dot(W)\n",
    "        z -= np.max(z)\n",
    "        correct_z = z[y[i]]\n",
    "        d = np.sum(np.exp(z))\n",
    "        p = np.exp(correct_z) / d\n",
    "        loss += -np.log(p)\n",
    "        \n",
    "        for j in range(num_classes):\n",
    "            if j == y[i]:\n",
    "                dW[:, y[i]] += (np.exp(z[j]) / d - 1) * X[i, :]\n",
    "            else:\n",
    "                dW[:, j] += (np.exp(z[j]) / d) * X[i, :]\n",
    "                \n",
    "    loss /= num_train\n",
    "    loss += 0.5 * alpha * np.sum(W * W)\n",
    "    \n",
    "    dW /= num_train\n",
    "    dW += alpha * W\n",
    "\n",
    "    return loss, dW\n",
    "\n",
    "for i in range(num_train):\n",
    "    z = X[i,:].dot(W)\n",
    "    z -= np.max(z)\n",
    "    c_z = z[y[i]]\n",
    "    loss += -np/log(np.exp(c_z)/np.sum(np.exp(z)))"
   ]
  },
  {
   "cell_type": "markdown",
   "id": "8b9aa529",
   "metadata": {},
   "source": [
    "## Without regularization"
   ]
  },
  {
   "cell_type": "code",
   "execution_count": 137,
   "id": "0eea225f",
   "metadata": {
    "deletable": false,
    "editable": false,
    "nbgrader": {
     "cell_type": "code",
     "checksum": "ac16981288c3c2f604ad8bab7defad33",
     "grade": true,
     "grade_id": "cell-878cebbdfa4e3f9b",
     "locked": true,
     "points": 1,
     "schema_version": 3,
     "solution": false,
     "task": false
    }
   },
   "outputs": [
    {
     "name": "stdout",
     "output_type": "stream",
     "text": [
      "numerical: 0.765581 analytic: 0.765581, relative error: 7.376027e-11\n",
      "numerical: 0.028021 analytic: 0.028021, relative error: 2.421432e-10\n",
      "numerical: 0.028021 analytic: 0.028021, relative error: 2.421432e-10\n",
      "numerical: -0.247738 analytic: -0.247738, relative error: 4.943368e-10\n",
      "numerical: -0.042410 analytic: -0.042410, relative error: 4.157753e-11\n",
      "numerical: 0.095293 analytic: 0.095293, relative error: 2.307856e-10\n",
      "numerical: -0.167921 analytic: -0.167921, relative error: 2.914256e-10\n",
      "numerical: -0.031810 analytic: -0.031810, relative error: 3.978412e-09\n",
      "numerical: -0.042410 analytic: -0.042410, relative error: 4.157753e-11\n",
      "numerical: 0.028021 analytic: 0.028021, relative error: 2.421432e-10\n",
      "numerical: -0.031810 analytic: -0.031810, relative error: 3.978412e-09\n",
      "numerical: -0.031810 analytic: -0.031810, relative error: 3.978412e-09\n"
     ]
    }
   ],
   "source": [
    "loss, dW = softmax_loss_naive(W, X_train2, y_train2, 0.0)\n",
    "\n",
    "f = lambda W: softmax_loss_naive(W, X_train2, y_train2, 0.0)[0]\n",
    "grad_numerical = grad_check_sparse(f, W, dW, error=1e-7)"
   ]
  },
  {
   "cell_type": "markdown",
   "id": "7edea2f2",
   "metadata": {},
   "source": [
    "## With regularization"
   ]
  },
  {
   "cell_type": "code",
   "execution_count": 138,
   "id": "533001ff",
   "metadata": {
    "deletable": false,
    "editable": false,
    "nbgrader": {
     "cell_type": "code",
     "checksum": "bd9a1e462d23666f55369d6b9d152117",
     "grade": true,
     "grade_id": "cell-ead29b6569263a0f",
     "locked": true,
     "points": 1,
     "schema_version": 3,
     "solution": false,
     "task": false
    }
   },
   "outputs": [
    {
     "name": "stdout",
     "output_type": "stream",
     "text": [
      "numerical: 0.028186 analytic: 0.028186, relative error: 1.896021e-10\n",
      "numerical: 0.317729 analytic: 0.317729, relative error: 9.093787e-14\n",
      "numerical: -0.042467 analytic: -0.042467, relative error: 1.361375e-10\n",
      "numerical: 0.765350 analytic: 0.765350, relative error: 6.803799e-11\n",
      "numerical: 0.028186 analytic: 0.028186, relative error: 1.896021e-10\n",
      "numerical: 0.765350 analytic: 0.765350, relative error: 6.803799e-11\n",
      "numerical: -0.275336 analytic: -0.275336, relative error: 2.751394e-11\n",
      "numerical: -0.032097 analytic: -0.032097, relative error: 3.974254e-09\n",
      "numerical: -0.123192 analytic: -0.123192, relative error: 7.443210e-11\n",
      "numerical: 0.279555 analytic: 0.279555, relative error: 3.940987e-10\n",
      "numerical: 0.095298 analytic: 0.095298, relative error: 2.213235e-10\n",
      "numerical: 0.279555 analytic: 0.279555, relative error: 3.940987e-10\n"
     ]
    }
   ],
   "source": [
    "loss, dW = softmax_loss_naive(W, X_train2, y_train2, 2)\n",
    "\n",
    "f = lambda W: softmax_loss_naive(W, X_train2, y_train2, 2)[0]\n",
    "grad_numerical = grad_check_sparse(f, W, dW, error=1e-7)"
   ]
  },
  {
   "cell_type": "code",
   "execution_count": 139,
   "id": "507c703e",
   "metadata": {},
   "outputs": [],
   "source": [
    "def stable_softmax(z):\n",
    "    exps = np.exp(z - np.max(z, axis=1, keepdims=True)) \n",
    "    return exps/np.sum(exps, axis=1, keepdims=True)"
   ]
  },
  {
   "cell_type": "code",
   "execution_count": 141,
   "id": "c2593d82",
   "metadata": {
    "deletable": false,
    "nbgrader": {
     "cell_type": "code",
     "checksum": "48f52a4942e2b468f5775c5c7fbd2617",
     "grade": false,
     "grade_id": "cell-11e6980597b20334",
     "locked": false,
     "schema_version": 3,
     "solution": true,
     "task": false
    }
   },
   "outputs": [],
   "source": [
    "def softmax_loss_vectorized(W, X, y, alpha, fit_intercept=False):\n",
    "    \"\"\"\n",
    "    Softmax loss function WITHOUT FOR LOOPS\n",
    "\n",
    "    Inputs:\n",
    "    - W: array of shape (D, C) containing weights\n",
    "    - X: array of shape (N, D) containing a minibatch of data\n",
    "    - y: array of shape (N,) containing training labels\n",
    "    - alpha: (float) regularization \n",
    "\n",
    "    Returns a tuple of:\n",
    "    - loss as single float\n",
    "    - gradient with respect to weights W;  same shape as W\n",
    "    \"\"\"\n",
    "    # Initialize the loss and gradient to zero.\n",
    "    loss = 0.0\n",
    "    dW = np.zeros_like(W)\n",
    "\n",
    "    # YOUR CODE HERE\n",
    "    tmp = -np.log(p[np.arange(N),y])\n",
    "    loss = np.sum(tmp)/N + alpha*np.sum(W*W)\n",
    "    \n",
    "    #https://deepnotes.io/softmax-crossentropy#derivative-of-softmax\n",
    "    \n",
    "    N = X.shape[0]\n",
    "    Z = X@W \n",
    "    p = stable_softmax(Z)\n",
    "    \n",
    "    #loss\n",
    "    tmp = -np.log(p[np.arange(N),y])\n",
    "    loss = np.sum(tmp)/N + alpha*np.sum(W*W) \n",
    "    \n",
    "    #dW\n",
    "    d = p.copy()\n",
    "    d[np.arange(N),y] -= 1\n",
    "    dW = (1/N)*(X.T@d) + 2 * alpha * W\n",
    "\n",
    "    return loss, dW"
   ]
  },
  {
   "cell_type": "markdown",
   "id": "ddea508b",
   "metadata": {},
   "source": [
    "## Without regularization"
   ]
  },
  {
   "cell_type": "code",
   "execution_count": 142,
   "id": "78f759e2",
   "metadata": {
    "deletable": false,
    "editable": false,
    "nbgrader": {
     "cell_type": "code",
     "checksum": "441d40ba642d3a505582eaeb87981127",
     "grade": true,
     "grade_id": "cell-0bc0fcf0bd3d3f13",
     "locked": true,
     "points": 1,
     "schema_version": 3,
     "solution": false,
     "task": false
    }
   },
   "outputs": [
    {
     "name": "stdout",
     "output_type": "stream",
     "text": [
      "numerical: -0.275443 analytic: -0.275443, relative error: 1.888367e-11\n",
      "numerical: -0.167921 analytic: -0.167921, relative error: 3.244832e-10\n",
      "numerical: 0.317852 analytic: 0.317852, relative error: 1.081661e-11\n",
      "numerical: -0.247738 analytic: -0.247738, relative error: 5.167438e-10\n",
      "numerical: 0.028021 analytic: 0.028021, relative error: 7.483890e-10\n",
      "numerical: -0.031810 analytic: -0.031810, relative error: 3.978416e-09\n",
      "numerical: -0.123314 analytic: -0.123314, relative error: 1.017584e-10\n",
      "numerical: -0.167921 analytic: -0.167921, relative error: 3.244832e-10\n",
      "numerical: 0.095293 analytic: 0.095293, relative error: 1.725328e-10\n",
      "numerical: 0.279547 analytic: 0.279547, relative error: 4.992367e-10\n",
      "numerical: 0.765581 analytic: 0.765581, relative error: 5.925857e-11\n",
      "numerical: 0.317852 analytic: 0.317852, relative error: 1.081661e-11\n"
     ]
    }
   ],
   "source": [
    "loss, dW = softmax_loss_vectorized(W, X_train2, y_train2, 0.0)\n",
    "\n",
    "f = lambda W: softmax_loss_vectorized(W, X_train2, y_train2, 0.0)[0]\n",
    "grad_numerical = grad_check_sparse(f, W, dW, error=1e-7)"
   ]
  },
  {
   "cell_type": "markdown",
   "id": "27c84f53",
   "metadata": {},
   "source": [
    "## With regularization"
   ]
  },
  {
   "cell_type": "code",
   "execution_count": 143,
   "id": "8bddf43a",
   "metadata": {
    "deletable": false,
    "editable": false,
    "nbgrader": {
     "cell_type": "code",
     "checksum": "6475ed3a14441d5488ecb46ec2522bbb",
     "grade": true,
     "grade_id": "cell-1fe0149d053dade0",
     "locked": true,
     "points": 1,
     "schema_version": 3,
     "solution": false,
     "task": false
    }
   },
   "outputs": [
    {
     "name": "stdout",
     "output_type": "stream",
     "text": [
      "numerical: -0.032385 analytic: -0.032385, relative error: 3.970175e-09\n",
      "numerical: -0.123070 analytic: -0.123070, relative error: 1.098691e-10\n",
      "numerical: -0.248005 analytic: -0.248005, relative error: 5.166791e-10\n",
      "numerical: 0.279563 analytic: 0.279563, relative error: 4.875307e-10\n",
      "numerical: -0.042525 analytic: -0.042525, relative error: 2.917093e-10\n",
      "numerical: -0.168061 analytic: -0.168061, relative error: 3.076248e-10\n",
      "numerical: -0.275229 analytic: -0.275229, relative error: 2.689804e-11\n",
      "numerical: 0.279563 analytic: 0.279563, relative error: 4.875307e-10\n",
      "numerical: -0.597889 analytic: -0.597889, relative error: 8.642592e-11\n",
      "numerical: -0.123070 analytic: -0.123070, relative error: 1.098691e-10\n",
      "numerical: 0.279563 analytic: 0.279563, relative error: 4.875307e-10\n",
      "numerical: 0.765118 analytic: 0.765118, relative error: 6.231218e-11\n"
     ]
    }
   ],
   "source": [
    "loss, dW = softmax_loss_vectorized(W, X_train2, y_train2, 2)\n",
    "\n",
    "f = lambda W: softmax_loss_vectorized(W, X_train2, y_train2, 2)[0]\n",
    "grad_numerical = grad_check_sparse(f, W, dW, error=1e-7)"
   ]
  },
  {
   "cell_type": "markdown",
   "id": "ab7e247a",
   "metadata": {},
   "source": [
    "## Gradient descent"
   ]
  },
  {
   "cell_type": "code",
   "execution_count": 154,
   "id": "9dff0bbc",
   "metadata": {
    "deletable": false,
    "nbgrader": {
     "cell_type": "code",
     "checksum": "a0cedf5c70f5cf04cdd8b74702815dba",
     "grade": false,
     "grade_id": "cell-0f69bb891603b665",
     "locked": false,
     "schema_version": 3,
     "solution": true,
     "task": false
    }
   },
   "outputs": [],
   "source": [
    "class LinearModel():\n",
    "    def __init__(self, fit_intercept=True):\n",
    "        self.W = None\n",
    "        self.fit_intercept = fit_intercept\n",
    "\n",
    "    def train(self, X, y, learning_rate=1e-3, alpha=0, num_iters=100, batch_size=200, verbose=False):\n",
    "        if self.fit_intercept:\n",
    "            # YOUR CODE HERE\n",
    "            X = np.concatenate((np.ones((X.shape[0],1)),X),axis=1)\n",
    "            \n",
    "        N, d = X.shape\n",
    "        \n",
    "        C = (np.max(y) + 1) \n",
    "        if self.W is None: # Initialization\n",
    "            self.W = 0.001 * np.random.randn(d, C)\n",
    "\n",
    "        # Run stochastic gradient descent to optimize W\n",
    "        \n",
    "        loss_history = []\n",
    "        for it in range(num_iters):\n",
    "            X_batch = None\n",
    "            y_batch = None\n",
    "                                                               \n",
    "            # Sample batch_size elements in X_batch and y_batch\n",
    "            # X_batch shape is  (batch_size, d) and y_batch shape is (batch_size,)                                                                                          \n",
    "            # Hint: Use np.random.choice to generate indices\n",
    "            # YOUR CODE HERE\n",
    "            choice = np.random.choice(N, batch_size, replace=False)\n",
    "\n",
    "            X_batch = X[choice,:]\n",
    "            y_batch = y[choice]\n",
    "            \n",
    "            # evaluate loss and gradient\n",
    "            loss, dW = self.loss(X_batch, y_batch, alpha)\n",
    "            loss_history.append(loss)\n",
    "\n",
    "            # perform parameter update                                                                \n",
    "            # Update the weights w using the gradient and the learning rate.          \n",
    "            # YOUR CODE HERE\n",
    "            self.W = self.W - learning_rate * dW\n",
    "            \n",
    "            if verbose and it % 10000 == 0:\n",
    "                print(\"iteration %d / %d: loss %f\" % (it, num_iters, loss))\n",
    "                \n",
    "        return loss_history\n",
    "\n",
    "    def predict(self, X):\n",
    "        pass\n",
    "\n",
    "    def loss(self, X_batch, y_batch, reg):\n",
    "        pass\n",
    "\n",
    "class MultinomialLogisticRegressor(LinearModel):\n",
    "    \"\"\" Softmax regression \"\"\"\n",
    "\n",
    "    def loss(self, X_batch, y_batch, alpha):\n",
    "        return softmax_loss_vectorized(self.W, X_batch, y_batch, alpha)\n",
    "    \n",
    "    def predict(self, X):\n",
    "        \"\"\" \n",
    "        Inputs:\n",
    "        - X: array of shape (N, D) \n",
    "\n",
    "        Returns:\n",
    "        - y_pred: 1-dimensional array of length N, each element is an integer giving the predicted class \n",
    "        \"\"\"\n",
    "        # YOUR CODE HERE\n",
    "        if(self.fit_intercept):\n",
    "            X = np.concatenate((np.ones((X.shape[0],1)),X),axis=1)\n",
    "            #self.W[0] = 0\n",
    "            \n",
    "        y_pred = []\n",
    "        \n",
    "        for i in range(X.shape[0]):   \n",
    "            z = X[i] @self.W\n",
    "            z = z - z.max()\n",
    "            y_pred.append(np.argmax(np.exp(z)/sum(np.exp(z))))\n",
    "        \n",
    "        return y_pred"
   ]
  },
  {
   "cell_type": "code",
   "execution_count": 155,
   "id": "ce21aaa4",
   "metadata": {
    "deletable": false,
    "editable": false,
    "nbgrader": {
     "cell_type": "code",
     "checksum": "56aacc6a9e4ede50cd934a81dfd9915f",
     "grade": true,
     "grade_id": "cell-8569aecb5759a819",
     "locked": true,
     "points": 1,
     "schema_version": 3,
     "solution": false,
     "task": false
    }
   },
   "outputs": [
    {
     "name": "stdout",
     "output_type": "stream",
     "text": [
      "iteration 0 / 75000: loss 1.097771\n",
      "iteration 10000 / 75000: loss 0.364422\n",
      "iteration 20000 / 75000: loss 0.297538\n",
      "iteration 30000 / 75000: loss 0.441212\n",
      "iteration 40000 / 75000: loss 0.321370\n",
      "iteration 50000 / 75000: loss 0.306862\n",
      "iteration 60000 / 75000: loss 0.351471\n",
      "iteration 70000 / 75000: loss 0.314518\n",
      "Accuracy scikit-learn: 0.86\n",
      "Accuracy gradient descent model : 0.8666666666666667\n"
     ]
    }
   ],
   "source": [
    "from sklearn.linear_model import LogisticRegression\n",
    "from sklearn.preprocessing import StandardScaler\n",
    "\n",
    "scaler = StandardScaler()\n",
    "X_train2 = scaler.fit_transform(X_train2)\n",
    "\n",
    "sk_model = LogisticRegression(fit_intercept=False)\n",
    "sk_model.fit(X_train2, y_train2)\n",
    "sk_pred = sk_model.predict(X_train2)\n",
    "sk_accuracy = accuracy_score(y_train2, sk_pred)\n",
    "\n",
    "model = MultinomialLogisticRegressor(fit_intercept=False)\n",
    "model.train(X_train2, y_train2, num_iters=75000, batch_size=64, learning_rate=1e-3, verbose=True)\n",
    "pred = model.predict(X_train2)\n",
    "model_accuracy = accuracy_score(y_train2, pred)\n",
    "\n",
    "print(\"Accuracy scikit-learn:\", sk_accuracy)\n",
    "print(\"Accuracy gradient descent model :\", model_accuracy)\n",
    "assert sk_accuracy - model_accuracy < 0.01"
   ]
  },
  {
   "cell_type": "code",
   "execution_count": 156,
   "id": "b2c6a8ad",
   "metadata": {
    "deletable": false,
    "editable": false,
    "nbgrader": {
     "cell_type": "code",
     "checksum": "40a4732103eaf77860c941e0897de01c",
     "grade": true,
     "grade_id": "cell-30e12569fdfb269c",
     "locked": true,
     "points": 1,
     "schema_version": 3,
     "solution": false,
     "task": false
    }
   },
   "outputs": [
    {
     "name": "stdout",
     "output_type": "stream",
     "text": [
      "iteration 0 / 75000: loss 1.098279\n",
      "iteration 10000 / 75000: loss 0.300075\n",
      "iteration 20000 / 75000: loss 0.268020\n",
      "iteration 30000 / 75000: loss 0.247827\n",
      "iteration 40000 / 75000: loss 0.171910\n",
      "iteration 50000 / 75000: loss 0.138045\n",
      "iteration 60000 / 75000: loss 0.124669\n",
      "iteration 70000 / 75000: loss 0.142057\n",
      "Accuracy scikit-learn: 0.9733333333333334\n",
      "Accuracy gradient descent model : 0.96\n"
     ]
    }
   ],
   "source": [
    "sk_model = LogisticRegression(fit_intercept=True)\n",
    "sk_model.fit(X_train2, y_train2)\n",
    "sk_pred = sk_model.predict(X_train2)\n",
    "sk_accuracy = accuracy_score(y_train2, sk_pred)\n",
    "\n",
    "model = MultinomialLogisticRegressor(fit_intercept=True)\n",
    "model.train(X_train2, y_train2, num_iters=75000, batch_size=64, learning_rate=1e-3, verbose=True)\n",
    "pred = model.predict(X_train2)\n",
    "model_accuracy = accuracy_score(y_train2, pred)\n",
    "\n",
    "print(\"Accuracy scikit-learn:\", sk_accuracy)\n",
    "print(\"Accuracy gradient descent model :\", model_accuracy)\n",
    "assert sk_accuracy - model_accuracy < 0.02"
   ]
  },
  {
   "cell_type": "markdown",
   "id": "62032646",
   "metadata": {},
   "source": [
    "# K-Nearest Neighbor"
   ]
  },
  {
   "cell_type": "markdown",
   "id": "a3c81034",
   "metadata": {},
   "source": [
    "## Computing distances"
   ]
  },
  {
   "cell_type": "code",
   "execution_count": 157,
   "id": "8a97c549",
   "metadata": {
    "deletable": false,
    "editable": false,
    "nbgrader": {
     "cell_type": "code",
     "checksum": "858935a2455a3ca0e416b3084b730e7f",
     "grade": false,
     "grade_id": "cell-9738d380318b956f",
     "locked": true,
     "schema_version": 3,
     "solution": false,
     "task": false
    }
   },
   "outputs": [],
   "source": [
    "data = load_digits()\n",
    "X_train3, y_train3 = data.data, data.target\n",
    "X_train3, X_test3, y_train3, y_test3 = train_test_split(X_train3, y_train3, test_size=0.33, random_state=2)\n",
    "\n",
    "def get_distances_two_loops_with_norm(X_train, X_test):\n",
    "    num_test = X_test.shape[0]\n",
    "    num_train = X_train.shape[0]\n",
    "    distances = np.zeros((num_test, num_train))\n",
    "    for i in range(num_test):\n",
    "        for j in range(num_train):\n",
    "            distances[i, j] = np.linalg.norm(X_test[i] - X_train[j])\n",
    "    return distances"
   ]
  },
  {
   "cell_type": "code",
   "execution_count": 158,
   "id": "bc141e14",
   "metadata": {},
   "outputs": [],
   "source": [
    "from scipy.spatial import distance"
   ]
  },
  {
   "cell_type": "code",
   "execution_count": 170,
   "id": "d1b01336",
   "metadata": {
    "deletable": false,
    "nbgrader": {
     "cell_type": "code",
     "checksum": "6cfd476a7819d38b3c8ef47443365f64",
     "grade": false,
     "grade_id": "cell-4756294c792f6985",
     "locked": false,
     "schema_version": 3,
     "solution": true,
     "task": false
    }
   },
   "outputs": [],
   "source": [
    "def get_distances_two_loops(X_train, X_test):\n",
    "    \"\"\"\n",
    "    Compute the distance between each test point in X_test and each training point\n",
    "    in X_train \n",
    "\n",
    "    Inputs:\n",
    "    - X_test: array of shape (num_test, D) \n",
    "\n",
    "    Returns:\n",
    "    - distances: array of shape (num_test, num_train), dists[i, j] is Euclidean distance between \n",
    "    the ith test point and the jth training point.\n",
    "    \"\"\"\n",
    "    num_test = X_test.shape[0]\n",
    "    num_train = X_train.shape[0]\n",
    "    distances = np.zeros((num_test, num_train))\n",
    "    for i in range(num_test):\n",
    "        for j in range(num_train):\n",
    "            # Ataovy ao anaty distances[i, j] ny distance entre ith test point sy th training point\n",
    "            # Aza manao boucle instony ato anatiny\n",
    "            # TSY MAHAZO MAMPIASA np.linalg.norm() :D\n",
    "            # YOUR CODE HERE\n",
    "            distances[i, j] = np.sqrt((X_test[i] - X_train[j]).T@(X_test[i] - X_train[j]))\n",
    "            #distances[i,j] = distance.euclidean(X_test[i],X_train[j])\n",
    "    return distances\n"
   ]
  },
  {
   "cell_type": "code",
   "execution_count": 171,
   "id": "da674674",
   "metadata": {
    "deletable": false,
    "editable": false,
    "nbgrader": {
     "cell_type": "code",
     "checksum": "78d07191456013c3a22619c2d26e2503",
     "grade": true,
     "grade_id": "cell-76b63cae5d6a5977",
     "locked": true,
     "points": 1,
     "schema_version": 3,
     "solution": false,
     "task": false
    }
   },
   "outputs": [
    {
     "name": "stdout",
     "output_type": "stream",
     "text": [
      "0.0\n"
     ]
    }
   ],
   "source": [
    "distances = get_distances_two_loops(X_train3, X_test3)\n",
    "true_distances = get_distances_two_loops_with_norm(X_train3, X_test3)\n",
    "\n",
    "difference = np.linalg.norm(distances - true_distances, ord='fro')\n",
    "\n",
    "print(difference)\n",
    "assert difference < 1e-10"
   ]
  },
  {
   "cell_type": "code",
   "execution_count": 182,
   "id": "69a0a04b",
   "metadata": {
    "deletable": false,
    "nbgrader": {
     "cell_type": "code",
     "checksum": "3b98a31f8ab9e6b8bd5a18ea02dd7165",
     "grade": false,
     "grade_id": "cell-05658431df004915",
     "locked": false,
     "schema_version": 3,
     "solution": true,
     "task": false
    }
   },
   "outputs": [],
   "source": [
    "def compute_distances_one_loop(X_train, X_test):\n",
    "    \"\"\"\n",
    "    Compute the distance between each test point in X_test and each training point\n",
    "    in X_train \n",
    "\n",
    "    Inputs:\n",
    "    - X_test: array of shape (num_test, D) \n",
    "\n",
    "    Returns:\n",
    "    - dists: array of shape (num_test, num_train), dists[i, j] is Euclidean distance between \n",
    "    the ith test point and the jth training point.\n",
    "    \"\"\"\n",
    "    num_test = X_test.shape[0]\n",
    "    num_train = X_train.shape[0]\n",
    "    distances = np.zeros((num_test, num_train))\n",
    "    for i in range(num_test):\n",
    "        # Ataovy ao anaty dists[i, j] ny distance entre ith test point sy th training point\n",
    "        # Aza manao boucle instony ato anatiny\n",
    "        # TSY MAHAZO MAMPIASA np.linalg.norm() :D\n",
    "        \n",
    "        # YOUR CODE HERE\n",
    "        #j_iterate(distances,i,0,X_test,X_train)\n",
    "        distances[i,:] = np.sqrt(np.sum(((X_test[i,:] - X_train)**2),axis=1))\n",
    "    return distances    \n"
   ]
  },
  {
   "cell_type": "code",
   "execution_count": 183,
   "id": "2540b717",
   "metadata": {
    "deletable": false,
    "editable": false,
    "nbgrader": {
     "cell_type": "code",
     "checksum": "6a9d09964868df2c201e48372082c2e5",
     "grade": true,
     "grade_id": "cell-cfa64f63da5511f9",
     "locked": true,
     "points": 1,
     "schema_version": 3,
     "solution": false,
     "task": false
    }
   },
   "outputs": [
    {
     "name": "stdout",
     "output_type": "stream",
     "text": [
      "0.0\n"
     ]
    }
   ],
   "source": [
    "distances = compute_distances_one_loop(X_train3, X_test3)\n",
    "true_distances = get_distances_two_loops_with_norm(X_train3, X_test3)\n",
    "\n",
    "difference = np.linalg.norm(distances - true_distances, ord='fro')\n",
    "\n",
    "print(difference)\n",
    "assert difference < 1e-10"
   ]
  },
  {
   "cell_type": "code",
   "execution_count": 174,
   "id": "95543d6a",
   "metadata": {},
   "outputs": [],
   "source": [
    "from sklearn.metrics import pairwise_distances"
   ]
  },
  {
   "cell_type": "code",
   "execution_count": 190,
   "id": "c3788be0",
   "metadata": {
    "deletable": false,
    "nbgrader": {
     "cell_type": "code",
     "checksum": "e10c370f1f9c3e653fc817c883b7de0e",
     "grade": false,
     "grade_id": "cell-3cb10928a6af9889",
     "locked": false,
     "schema_version": 3,
     "solution": true,
     "task": false
    }
   },
   "outputs": [],
   "source": [
    "def get_distances_zero_loop(X_train, X_test):\n",
    "    \"\"\"\n",
    "    Compute the distance between each test point in X_test and each training point\n",
    "    in X_train \n",
    "\n",
    "    Inputs:\n",
    "    - X_test: array of shape (num_test, D) \n",
    "\n",
    "    Returns:\n",
    "    - distances: array of shape (num_test, num_train), dists[i, j] is Euclidean distance between \n",
    "    the ith test point and the jth training point.\n",
    "    \"\"\"\n",
    "    num_test = X_test.shape[0]\n",
    "    num_train = X_train.shape[0]\n",
    "    distances = np.zeros((num_test, num_train))  \n",
    "    # Ataovy ao anaty dists[i, j] ny distance entre ith test point sy th training point\n",
    "    # Aza manao boucle instony\n",
    "    # TSY MAHAZO MAMPIASA np.linalg.norm() NA FONCTIONS AO AMIN'NY SCIPY :D\n",
    "            \n",
    "    # YOUR CODE HERE\n",
    "    \n",
    "    distances = np.sqrt(-2 * np.dot(X_test, X_train.T) + np.sum(X_train**2,axis=1) + np.sum(X_test**2, axis=1)[:, np.newaxis])\n",
    "\n",
    "    return distances"
   ]
  },
  {
   "cell_type": "code",
   "execution_count": 191,
   "id": "81a9294b",
   "metadata": {
    "deletable": false,
    "editable": false,
    "nbgrader": {
     "cell_type": "code",
     "checksum": "08a63c2a5bf229c55db5bdc793f5c885",
     "grade": true,
     "grade_id": "cell-ff999d4dddc0760f",
     "locked": true,
     "points": 2,
     "schema_version": 3,
     "solution": false,
     "task": false
    }
   },
   "outputs": [
    {
     "name": "stdout",
     "output_type": "stream",
     "text": [
      "0.0\n"
     ]
    }
   ],
   "source": [
    "distances = get_distances_zero_loop(X_train3, X_test3)\n",
    "true_distances = get_distances_two_loops_with_norm(X_train3, X_test3)\n",
    "\n",
    "difference = np.linalg.norm(distances - true_distances, ord='fro')\n",
    "\n",
    "print(difference)\n",
    "assert difference < 1e-10"
   ]
  },
  {
   "cell_type": "markdown",
   "id": "bc9c2ac6",
   "metadata": {},
   "source": [
    "## K-Nearest Neighbor (knn) classifier"
   ]
  },
  {
   "cell_type": "code",
   "execution_count": 177,
   "id": "68ad1563",
   "metadata": {},
   "outputs": [],
   "source": [
    "from collections import Counter"
   ]
  },
  {
   "cell_type": "code",
   "execution_count": 178,
   "id": "2ce1e0f2",
   "metadata": {
    "deletable": false,
    "nbgrader": {
     "cell_type": "code",
     "checksum": "c2213945856056edb1cbc5174c98be4e",
     "grade": false,
     "grade_id": "cell-8d852d04f1f1e1c6",
     "locked": false,
     "schema_version": 3,
     "solution": true,
     "task": false
    }
   },
   "outputs": [],
   "source": [
    "class KNearestNeighborClassifier():\n",
    "    \"\"\" kNN classifier using L2 distance \"\"\"\n",
    "\n",
    "    def __init__(self, k=1):\n",
    "        \"\"\"\n",
    "        Inputs:\n",
    "        - k: number of nearest neighbors that vote for the predicted labels.\n",
    "        \"\"\"\n",
    "        self.k = k\n",
    "\n",
    "    def fit(self, X, y):\n",
    "        \"\"\"\n",
    "        Train the classifier. Just memorize the training data.\n",
    "\n",
    "        Inputs:\n",
    "        - X: array of shape (num_train, D) \n",
    "        - y: array of shape (N,) \n",
    "        \"\"\"\n",
    "        self.X_train = X\n",
    "        self.y_train = y\n",
    "\n",
    "    def predict(self, X):\n",
    "        \"\"\"\n",
    "        Predict labels for test data using this classifier.\n",
    "\n",
    "        Inputs:\n",
    "        - X: array of shape (num_test, D) \n",
    "\n",
    "        Returns:\n",
    "        - y: array of shape (num_test,) \n",
    "        \"\"\"\n",
    "        distances = get_distances_zero_loop(self.X_train, X)\n",
    "        return self.predict_labels(distances)\n",
    "\n",
    "    def predict_labels(self, distances):\n",
    "        \"\"\"\n",
    "        Given a matrix of distances between test points and training points,\n",
    "        predict a label for each test point.\n",
    "\n",
    "        Inputs:\n",
    "        - distances: array of shape (num_test, num_train), dists[i, j] is Euclidean distance between \n",
    "        the ith test point and the jth training point.\n",
    "\n",
    "        Returns:\n",
    "        - y:  array of shape (num_test,) \n",
    "        \"\"\"\n",
    "        num_test = distances.shape[0]\n",
    "        y_pred = np.zeros(num_test)\n",
    "        for i in range(num_test):\n",
    "            # list storing the labels of the k nearest neighbors to the ith test point.\n",
    "            closest_y = []\n",
    "\n",
    "            # Ampidirina ao anaty closest_y ny labels an'ny k neighbors akaiky indrindra\n",
    "            # Jereo fampiasana np.argsort\n",
    "            \n",
    "            #https://github.com/MautKaFarishta/Simple-Data-Scince-Projects/blob/master/ML_From_Scratch/KNN/KNN.py\n",
    "                \n",
    "            dist = np.argsort(distances[i])[:self.k]\n",
    "            closest_y = [ self.y_train[j] for j in dist ]\n",
    "\n",
    "            # Tadiavo ny label betsaka indrindra dia iny no atao prediction\n",
    "            # Raha misy mitovy dia izay label kely raisina\n",
    "            \n",
    "            #y_pred[i] = (Counter(closest_y).most_common()[0][0])\n",
    "            y_pred[i] = np.argmax(np.bincount(closest_y))\n",
    "\n",
    "        return y_pred\n",
    "    \"\"\"Accuracy scikit-learn: 0.9831649831649831\n",
    "Accuracy gradient descent model : 0.9831649831649831\"\"\""
   ]
  },
  {
   "cell_type": "code",
   "execution_count": 179,
   "id": "c419c1ac",
   "metadata": {
    "deletable": false,
    "editable": false,
    "nbgrader": {
     "cell_type": "code",
     "checksum": "e5ccea2db11ef9d1310203f6b2227fbc",
     "grade": true,
     "grade_id": "cell-301db44591c60d17",
     "locked": true,
     "points": 2,
     "schema_version": 3,
     "solution": false,
     "task": false
    }
   },
   "outputs": [
    {
     "name": "stdout",
     "output_type": "stream",
     "text": [
      "Accuracy scikit-learn: 0.9831649831649831\n",
      "Accuracy gradient descent model : 0.9831649831649831\n"
     ]
    }
   ],
   "source": [
    "sk_model = KNeighborsClassifier(n_neighbors=3)\n",
    "sk_model.fit(X_train3, y_train3)\n",
    "sk_pred = sk_model.predict(X_test3)\n",
    "sk_accuracy = accuracy_score(y_test3, sk_pred)\n",
    "\n",
    "model = KNearestNeighborClassifier(k=3)\n",
    "model.fit(X_train3, y_train3)\n",
    "pred = model.predict(X_test3)\n",
    "model_accuracy = accuracy_score(y_test3, pred)\n",
    "\n",
    "print(\"Accuracy scikit-learn:\", sk_accuracy)\n",
    "print(\"Accuracy gradient descent model :\", model_accuracy)\n",
    "assert sk_accuracy - model_accuracy < 1e-10"
   ]
  },
  {
   "cell_type": "markdown",
   "id": "792bbc93",
   "metadata": {},
   "source": [
    "## cross-validation"
   ]
  },
  {
   "cell_type": "code",
   "execution_count": null,
   "id": "a36b2cf5",
   "metadata": {},
   "outputs": [],
   "source": [
    "from sklearn.neighbors import KNeighborsClassifier"
   ]
  },
  {
   "cell_type": "code",
   "execution_count": 180,
   "id": "d4c44832",
   "metadata": {
    "deletable": false,
    "nbgrader": {
     "cell_type": "code",
     "checksum": "0433a47c347be926b4625f181c01d120",
     "grade": false,
     "grade_id": "cell-adaaf6c0d8cdce0a",
     "locked": false,
     "schema_version": 3,
     "solution": true,
     "task": false
    }
   },
   "outputs": [],
   "source": [
    "num_folds = 5\n",
    "k_choices = [1, 3, 5, 8, 10, 12, 15, 20, 50, 100]\n",
    "\n",
    "X_train_folds = []\n",
    "y_train_folds = []\n",
    "\n",
    "# Split up the data into folds\n",
    "# X_train_folds and y_train_folds lits of length num_folds\n",
    "# YOUR CODE HERE\n",
    "\n",
    "#https://github.com/suryanktiwari/Linear-Regression-and-K-fold-Cross-Validation/blob/master/K%20fold%20Cross%20Validation.py\n",
    "start = 0\n",
    "i = 1\n",
    "step = int(len(X_train3)/num_folds)\n",
    "\n",
    "while i<=num_folds:\n",
    "    X_train_folds.append(X_train3[start*step:i*step])\n",
    "    y_train_folds.append(y_train3[start*step:i*step])\n",
    "    start=i\n",
    "    i+=1\n",
    "\n",
    "# A dictionary of length num_folds holding the accuracies for different values of k \n",
    "k_to_accuracies = {}\n",
    "\n",
    "# Ataovy ary ilay k-fold cross validation \n",
    "# Atao ao anaty k_to_accuracies ny accuracy isaky ny valeur k\n",
    "# YOUR CODE HERE\n",
    "\n",
    "for k in k_choices:\n",
    "    cur = 0\n",
    "    while cur<num_folds:\n",
    "        model_accuracy = 0\n",
    "        test_x = X_train_folds[cur]\n",
    "        test_y = y_train_folds[cur]\n",
    "\n",
    "        trainX = []\n",
    "        trainY = []\n",
    "        for xt,yt in zip(X_train_folds,y_train_folds):\n",
    "            if (xt != test_x ).any(): \n",
    "                if(len(trainX) == 0):\n",
    "                    trainX = xt\n",
    "                else:\n",
    "                    trainX = np.concatenate((trainX,xt),axis=0)\n",
    "\n",
    "            if (yt != test_y).any():\n",
    "                if(len(trainY) == 0):\n",
    "                    trainY = yt\n",
    "                else:\n",
    "                    trainY = np.concatenate((trainY,yt),axis=0)\n",
    "\n",
    "        model = KNearestNeighborClassifier(k=k)\n",
    "        trainX = np.array(trainX)\n",
    "        trainY = np.array(trainY)\n",
    "\n",
    "        model.fit(trainX, trainY)\n",
    "        pred = model.predict(test_x)\n",
    "\n",
    "        model_accuracy = accuracy_score(test_y, pred)\n",
    "        if(cur == 0):\n",
    "            k_to_accuracies[k] = [model_accuracy]\n",
    "        else:\n",
    "            k_to_accuracies[k].append(model_accuracy)\n",
    "        cur += 1"
   ]
  },
  {
   "cell_type": "code",
   "execution_count": 181,
   "id": "110ef5f7",
   "metadata": {
    "deletable": false,
    "editable": false,
    "nbgrader": {
     "cell_type": "code",
     "checksum": "1f539a48494772e41230a2b590897508",
     "grade": true,
     "grade_id": "cell-4d0c3c0a08ed3f82",
     "locked": true,
     "points": 2,
     "schema_version": 3,
     "solution": false,
     "task": false
    }
   },
   "outputs": [
    {
     "name": "stdout",
     "output_type": "stream",
     "text": [
      "k = 1, accuracy = 0.991667\n",
      "k = 1, accuracy = 0.983333\n",
      "k = 1, accuracy = 0.983333\n",
      "k = 1, accuracy = 0.970833\n",
      "k = 1, accuracy = 0.995833\n",
      "k = 3, accuracy = 0.987500\n",
      "k = 3, accuracy = 0.983333\n",
      "k = 3, accuracy = 0.991667\n",
      "k = 3, accuracy = 0.970833\n",
      "k = 3, accuracy = 0.983333\n",
      "k = 5, accuracy = 0.991667\n",
      "k = 5, accuracy = 0.983333\n",
      "k = 5, accuracy = 0.991667\n",
      "k = 5, accuracy = 0.979167\n",
      "k = 5, accuracy = 0.983333\n",
      "k = 8, accuracy = 0.979167\n",
      "k = 8, accuracy = 0.970833\n",
      "k = 8, accuracy = 0.987500\n",
      "k = 8, accuracy = 0.966667\n",
      "k = 8, accuracy = 0.983333\n",
      "k = 10, accuracy = 0.983333\n",
      "k = 10, accuracy = 0.970833\n",
      "k = 10, accuracy = 0.979167\n",
      "k = 10, accuracy = 0.966667\n",
      "k = 10, accuracy = 0.975000\n",
      "k = 12, accuracy = 0.983333\n",
      "k = 12, accuracy = 0.975000\n",
      "k = 12, accuracy = 0.979167\n",
      "k = 12, accuracy = 0.966667\n",
      "k = 12, accuracy = 0.979167\n",
      "k = 15, accuracy = 0.983333\n",
      "k = 15, accuracy = 0.962500\n",
      "k = 15, accuracy = 0.983333\n",
      "k = 15, accuracy = 0.966667\n",
      "k = 15, accuracy = 0.962500\n",
      "k = 20, accuracy = 0.966667\n",
      "k = 20, accuracy = 0.958333\n",
      "k = 20, accuracy = 0.975000\n",
      "k = 20, accuracy = 0.958333\n",
      "k = 20, accuracy = 0.958333\n",
      "k = 50, accuracy = 0.945833\n",
      "k = 50, accuracy = 0.925000\n",
      "k = 50, accuracy = 0.962500\n",
      "k = 50, accuracy = 0.916667\n",
      "k = 50, accuracy = 0.929167\n",
      "k = 100, accuracy = 0.904167\n",
      "k = 100, accuracy = 0.895833\n",
      "k = 100, accuracy = 0.941667\n",
      "k = 100, accuracy = 0.895833\n",
      "k = 100, accuracy = 0.883333\n"
     ]
    }
   ],
   "source": [
    "for k in sorted(k_to_accuracies):\n",
    "    for accuracy in k_to_accuracies[k]:\n",
    "        print('k = %d, accuracy = %f' % (k, accuracy))"
   ]
  },
  {
   "cell_type": "code",
   "execution_count": null,
   "id": "27abd036",
   "metadata": {},
   "outputs": [],
   "source": []
  }
 ],
 "metadata": {
  "kernelspec": {
   "display_name": "Python 3",
   "language": "python",
   "name": "python3"
  },
  "language_info": {
   "codemirror_mode": {
    "name": "ipython",
    "version": 3
   },
   "file_extension": ".py",
   "mimetype": "text/x-python",
   "name": "python",
   "nbconvert_exporter": "python",
   "pygments_lexer": "ipython3",
   "version": "3.8.8"
  }
 },
 "nbformat": 4,
 "nbformat_minor": 5
}
